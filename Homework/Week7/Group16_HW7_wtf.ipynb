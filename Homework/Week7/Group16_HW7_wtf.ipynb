{
  "nbformat": 4,
  "nbformat_minor": 0,
  "metadata": {
    "colab": {
      "name": "Kopie von SHARED_HW7_wtf.ipynb",
      "provenance": [],
      "collapsed_sections": []
    },
    "kernelspec": {
      "name": "python3",
      "display_name": "Python 3"
    },
    "accelerator": "GPU"
  },
  "cells": [
    {
      "cell_type": "code",
      "metadata": {
        "id": "Ku3gGipeq4Vb"
      },
      "source": [
        "import numpy as np\r\n",
        "import tensorflow as tf\r\n",
        "import tensorflow_datasets as tfds\r\n",
        "import matplotlib.pyplot as plt\r\n",
        "import time"
      ],
      "execution_count": null,
      "outputs": []
    },
    {
      "cell_type": "markdown",
      "metadata": {
        "id": "zWF-d0e-r3yz"
      },
      "source": [
        "# 1.) Data Preprocessing\r\n",
        "\r\n",
        "mnist dataset,  60000 images (28x28x1), 10 classes (single hand written digits)\r\n",
        "\r\n",
        "Preprocessing steps:\r\n",
        "\r\n",
        "\r\n",
        "*   Normalizing images (range[0:1])\r\n",
        "*   Shufflin\r\n",
        "*   Batching, Prefetching\r\n",
        "\r\n"
      ]
    },
    {
      "cell_type": "code",
      "metadata": {
        "id": "nB0DNMqEq8tl"
      },
      "source": [
        "# In this homework we will work with the popular MNIST dataset.\r\n",
        "(train_images, train_labels), (test_images, test_labels) = tf.keras.datasets.mnist.load_data()"
      ],
      "execution_count": null,
      "outputs": []
    },
    {
      "cell_type": "code",
      "metadata": {
        "colab": {
          "base_uri": "https://localhost:8080/"
        },
        "id": "iCOqbXsBr03T",
        "outputId": "b9b51b09-321e-44d8-c07e-0533eedf41cb"
      },
      "source": [
        "#Investigate data\r\n",
        "\r\n",
        "#shape of train and test image and labels\r\n",
        "print(train_images.shape)\r\n",
        "print(np.max(train_images[0]))\r\n",
        "print(np.min(train_images[0]))"
      ],
      "execution_count": null,
      "outputs": [
        {
          "output_type": "stream",
          "text": [
            "(60000, 28, 28)\n",
            "255\n",
            "0\n"
          ],
          "name": "stdout"
        }
      ]
    },
    {
      "cell_type": "code",
      "metadata": {
        "colab": {
          "base_uri": "https://localhost:8080/",
          "height": 75
        },
        "id": "IPhiBfN3s8QW",
        "outputId": "195e52bc-055f-4c96-af88-28a34f68930f"
      },
      "source": [
        "fig, ax = plt.subplots(1,10)\r\n",
        "for i in range(10):\r\n",
        "\r\n",
        "    # Readout an image and the corresponding label.\r\n",
        "    img = train_images[i]\r\n",
        "    lbl = train_labels[i]\r\n",
        "\r\n",
        "    ax[i].imshow(img, cmap='gray')\r\n",
        "    ax[i].set_title(lbl)\r\n",
        "    ax[i].axis(\"off\")"
      ],
      "execution_count": null,
      "outputs": [
        {
          "output_type": "display_data",
          "data": {
            "image/png": "[encoded data removed]",
            "text/plain": [
              "<Figure size 432x288 with 10 Axes>"
            ]
          },
          "metadata": {
            "tags": [],
            "needs_background": "light"
          }
        }
      ]
    },
    {
      "cell_type": "markdown",
      "metadata": {
        "id": "oR463PUstXDM"
      },
      "source": [
        "**Input Tensorflow Pipeline**"
      ]
    },
    {
      "cell_type": "code",
      "metadata": {
        "id": "JEOlARvktYeE"
      },
      "source": [
        "#Normalization method range(0,1)\r\n",
        "def normalize_0_1(x):\r\n",
        "  #range 0 to 1\r\n",
        "  max = tf.math.reduce_max(x)\r\n",
        "  min = tf.math.reduce_min(x)\r\n",
        "  result = tf.math.subtract(x, min)\r\n",
        "  result = tf.math.divide(result,(max-min))\r\n",
        "  return(result)"
      ],
      "execution_count": null,
      "outputs": []
    },
    {
      "cell_type": "code",
      "metadata": {
        "id": "u_eaWEhPtVM4"
      },
      "source": [
        "# tf.data.Dataset.from_tensor_slices creates a tf.dataset from a tensor. The elements of the dataset are slices of the first tensor dimension\r\n",
        "train_data = tf.data.Dataset.from_tensor_slices(train_images)\r\n",
        "# expand the images to have explicitly the channel dimension 1\r\n",
        "train_data = train_data.map(lambda img : tf.cast(tf.expand_dims(img, -1), tf.float32))\r\n",
        "train_data = train_data.map(lambda img : normalize_0_1(img))\r\n",
        "\r\n",
        "train_data = train_data.shuffle(buffer_size=128)\r\n",
        "train_data = train_data.batch(64)\r\n",
        "train_data = train_data.prefetch(tf.data.experimental.AUTOTUNE)\r\n",
        "\r\n",
        "test_data = tf.data.Dataset.from_tensor_slices(test_images)\r\n",
        "# expand the images to have explicitly the channel dimension 1\r\n",
        "test_data = test_data.map(lambda img : tf.cast(tf.expand_dims(img, -1), tf.float32))\r\n",
        "test_data = test_data.map(lambda img : normalize_0_1(img))\r\n",
        "\r\n",
        "test_data = test_data.shuffle(buffer_size=128)\r\n",
        "test_data = test_data.batch(64)\r\n",
        "test_data = test_data.prefetch(tf.data.experimental.AUTOTUNE)\r\n"
      ],
      "execution_count": null,
      "outputs": []
    },
    {
      "cell_type": "code",
      "metadata": {
        "colab": {
          "base_uri": "https://localhost:8080/"
        },
        "id": "wNIUdQguvH7k",
        "outputId": "71342247-fa2e-4db3-e725-1cc50be31a12"
      },
      "source": [
        "#check whether normalizing was successful\r\n",
        "for i in train_data.take(1):\r\n",
        "  print(i.shape)\r\n",
        "  print(np.max(i))\r\n",
        "  print(np.min(i))"
      ],
      "execution_count": null,
      "outputs": [
        {
          "output_type": "stream",
          "text": [
            "(64, 28, 28, 1)\n",
            "1.0\n",
            "0.0\n"
          ],
          "name": "stdout"
        }
      ]
    },
    {
      "cell_type": "markdown",
      "metadata": {
        "id": "ftcA_40YwKB-"
      },
      "source": [
        "# 2.) Model\r\n",
        "\r\n",
        "**2.1) Convolutional Autoencoder**\r\n",
        "To downsample we use maxpooling-layers instead of modifying the strides of the convolutions."
      ]
    },
    {
      "cell_type": "code",
      "metadata": {
        "id": "RR2xBOCyvPIL"
      },
      "source": [
        "class Encoder(tf.keras.Model):\r\n",
        "\r\n",
        "  def __init__(self, embedding_size = 10):\r\n",
        "    super(Encoder, self).__init__()\r\n",
        "    \r\n",
        "    activation = tf.keras.activations.relu\r\n",
        "    self.cov1 = tf.keras.layers.Conv2D(filters = 64,\r\n",
        "                                       kernel_size = (3,3),\r\n",
        "                                       strides = (1,1),\r\n",
        "                                       padding = \"same\",\r\n",
        "                                       activation = activation,\r\n",
        "                                       input_shape = (28,28,1))\r\n",
        "    self.maxpool1 = tf.keras.layers.MaxPool2D()\r\n",
        "    self.cov2 = tf.keras.layers.Conv2D(filters = 64,\r\n",
        "                                       kernel_size = (3,3),\r\n",
        "                                       strides = (1,1),\r\n",
        "                                       padding = \"same\",\r\n",
        "                                       activation = activation)\r\n",
        "    self.maxpool2 = tf.keras.layers.MaxPool2D()\r\n",
        "\r\n",
        "    self.flatten = tf.keras.layers.Flatten()\r\n",
        "    self.output_layer = tf.keras.layers.Dense(units = embedding_size,\r\n",
        "                                        activation = activation)\r\n",
        "\r\n",
        "  def call(self, x, training = True, debug = False):\r\n",
        "    if debug:\r\n",
        "      print(\"Input Encoder: \" +str(x.shape))\r\n",
        "    x = self.cov1(x)\r\n",
        "    x = self.maxpool1(x)\r\n",
        "    x = self.cov2(x)\r\n",
        "    x = self.maxpool2(x)\r\n",
        "\r\n",
        "    if debug:\r\n",
        "      print(\"Shape before Flatten (after downsampling): \" + str(x.shape))\r\n",
        "\r\n",
        "    x = self.flatten(x)\r\n",
        "    x = self.output_layer(x)\r\n",
        "\r\n",
        "    if debug:\r\n",
        "      print(\"Output Encoder :\" + str(x.shape))\r\n",
        "    return x"
      ],
      "execution_count": null,
      "outputs": []
    },
    {
      "cell_type": "code",
      "metadata": {
        "id": "_SMJwcDdyZPq"
      },
      "source": [
        "class Decoder(tf.keras.Model):\r\n",
        "\r\n",
        "  def __init__(self, embedding_size = 10):\r\n",
        "    super(Decoder, self).__init__()\r\n",
        "\r\n",
        "    activation = tf.keras.activations.relu\r\n",
        "    self.input_layer = tf.keras.layers.Dense(units = np.product((7,7,64)),\r\n",
        "                                       activation = activation,\r\n",
        "                                       )\r\n",
        "\r\n",
        "    self.trans_cov1 = tf.keras.layers.Conv2DTranspose(filters=64,\r\n",
        "                                                      kernel_size = (3,3),\r\n",
        "                                                      strides = (2,2),\r\n",
        "                                                      padding = \"same\",\r\n",
        "                                                      activation = activation)\r\n",
        "    self.trans_cov2 = tf.keras.layers.Conv2DTranspose(filters=64,\r\n",
        "                                                      kernel_size = (3,3),\r\n",
        "                                                      strides = (2,2),\r\n",
        "                                                      padding = \"same\",\r\n",
        "                                                      activation = activation)\r\n",
        "    self.output_layer = tf.keras.layers.Conv2D(filters = 1,\r\n",
        "                                               kernel_size = (3,3),\r\n",
        "                                               padding = \"same\",\r\n",
        "                                               activation = tf.keras.activations.sigmoid)\r\n",
        "  \r\n",
        "  def call(self, x, batch_size, training = True, debug = False):\r\n",
        "    x = self.input_layer(x)\r\n",
        "    x = tf.reshape(x, (batch_size, 7, 7, 64))\r\n",
        "    if debug:\r\n",
        "      print(\"Shape after reshape (restore dimensionality): \" + str(x.shape))\r\n",
        "\r\n",
        "    x = self.trans_cov1(x)\r\n",
        "    x = self.trans_cov2(x)\r\n",
        "    if debug:\r\n",
        "      print(\"Shape after upsampling: \" + str(x.shape))\r\n",
        "\r\n",
        "    x = self.output_layer(x)\r\n",
        "    if debug:\r\n",
        "      print(\"Output Decoder :\" + str(x.shape))\r\n",
        "    return x"
      ],
      "execution_count": null,
      "outputs": []
    },
    {
      "cell_type": "code",
      "metadata": {
        "id": "_5rAvVWk-KSJ"
      },
      "source": [
        "class Cov_Autoencoder(tf.keras.Model):\r\n",
        "\r\n",
        "  def __init__(self, embedding_size = 10):\r\n",
        "    super(Cov_Autoencoder, self).__init__()\r\n",
        "    \r\n",
        "    self.encoder = Encoder(embedding_size = embedding_size)\r\n",
        "    self.decoder = Decoder(embedding_size = embedding_size)\r\n",
        "\r\n",
        "  def call(self, x, training = True, debug = False):\r\n",
        "    batch_size, _, _, _ = x.shape\r\n",
        "    x = self.encoder(x, training = training, debug = debug)\r\n",
        "    x = self.decoder(x, batch_size, training = training, debug = debug)\r\n",
        "    \r\n",
        "    return x"
      ],
      "execution_count": null,
      "outputs": []
    },
    {
      "cell_type": "markdown",
      "metadata": {
        "id": "xkTezerY-EPW"
      },
      "source": [
        "Lets check wether the dimensionality is correctly transformed using our autoencoder"
      ]
    },
    {
      "cell_type": "code",
      "metadata": {
        "colab": {
          "base_uri": "https://localhost:8080/"
        },
        "id": "3l8Ko59K_raN",
        "outputId": "32e0e448-ab66-42d5-fe70-33dfb65f4f40"
      },
      "source": [
        "for i in train_data.take(1):\r\n",
        "  autoenc = Cov_Autoencoder(embedding_size = 10)\r\n",
        "  y = autoenc(i, debug = True)"
      ],
      "execution_count": null,
      "outputs": [
        {
          "output_type": "stream",
          "text": [
            "Input Encoder: (64, 28, 28, 1)\n",
            "Shape before Flatten (after downsampling): (64, 7, 7, 64)\n",
            "Output Encoder :(64, 10)\n",
            "Shape after reshape (restore dimensionality): (64, 7, 7, 64)\n",
            "Shape after upsampling: (64, 28, 28, 64)\n",
            "Output Decoder :(64, 28, 28, 1)\n"
          ],
          "name": "stdout"
        }
      ]
    },
    {
      "cell_type": "markdown",
      "metadata": {
        "id": "Atj5vIDZ_yaG"
      },
      "source": [
        "**2.2) Variational Autoencoder**"
      ]
    },
    {
      "cell_type": "code",
      "metadata": {
        "id": "pjx4L24P_3ki"
      },
      "source": [
        "#Keine Ahnung, ob wir genug Zeit dafür haben"
      ],
      "execution_count": null,
      "outputs": []
    },
    {
      "cell_type": "markdown",
      "metadata": {
        "id": "okqeAWZQAEuO"
      },
      "source": [
        "# 3.) Training\r\n",
        "\r\n",
        "**3.1) Convolutional Autoencoder**"
      ]
    },
    {
      "cell_type": "code",
      "metadata": {
        "id": "fVJG5lfDAEZN"
      },
      "source": [
        "#General Hyperparameters\r\n",
        "trainforNepochs=10                                    \r\n",
        "learning_rate=0.001                                      \r\n",
        "running_average_factor = 0.95                           \r\n",
        "lossfunction= tf.keras.losses.MeanSquaredError()              #we use MSE\r\n",
        "optimizer = tf.keras.optimizers.Adam(learning_rate)           #we use ADAM as optimizer\r\n",
        "\r\n",
        "#tf.keras.backend.clear_session()\r\n",
        "model = Cov_Autoencoder(embedding_size = 10)"
      ],
      "execution_count": null,
      "outputs": []
    },
    {
      "cell_type": "code",
      "metadata": {
        "id": "XhNyGoqxA9_D"
      },
      "source": [
        "@tf.function\r\n",
        "def train_step(model, input, target, loss_function, optimizer, training=True):\r\n",
        "  # loss_object and optimizer_object are instances of respective tensorflow classes\r\n",
        "  with tf.GradientTape() as tape: #we safe the loss in the gradient tape \r\n",
        "    prediction = model(input, training)\r\n",
        "    loss = loss_function(target, prediction) \r\n",
        "    gradients = tape.gradient(loss, model.trainable_variables)\r\n",
        "  optimizer.apply_gradients(zip(gradients, model.trainable_variables))\r\n",
        "  return loss \r\n",
        "\r\n",
        "def test(model, test_data, loss_function, training=False):\r\n",
        "  # test over complete test data\r\n",
        "  test_loss_aggregator = []\r\n",
        "  \r\n",
        "  img_before = 0\r\n",
        "  img_after = 0\r\n",
        "  for input in test_data:\r\n",
        "    index = np.random.randint(0,len(input))\r\n",
        "    img_before = input[index]\r\n",
        "    prediction = model(input, training) \r\n",
        "    img_after = prediction[index]\r\n",
        "    sample_test_loss = loss_function(input, prediction) #loss is being generated between input and reconstructed picture\r\n",
        "    test_loss_aggregator.append(sample_test_loss.numpy())\r\n",
        "\r\n",
        "  f, axarr = plt.subplots(1,2)\r\n",
        "  axarr[0].imshow(tf.reshape(img_before,(28,28)), cmap = 'gray')\r\n",
        "  axarr[0].set_title(\"Before\")\r\n",
        "  axarr[0].axis(\"off\")\r\n",
        "  axarr[1].imshow(tf.reshape(img_after,(28,28)), cmap = 'gray')\r\n",
        "  axarr[1].set_title(\"After\")\r\n",
        "  axarr[1].axis(\"off\")\r\n",
        "  plt.show()\r\n",
        "  test_loss = np.mean(test_loss_aggregator)\r\n",
        "\r\n",
        "  return test_loss"
      ],
      "execution_count": null,
      "outputs": []
    },
    {
      "cell_type": "markdown",
      "metadata": {
        "id": "WAknM8bTceN3"
      },
      "source": [
        "Since the autoencoder is not yet trained,so the reconstructed image is random."
      ]
    },
    {
      "cell_type": "code",
      "metadata": {
        "colab": {
          "base_uri": "https://localhost:8080/",
          "height": 381
        },
        "id": "xhbXincoYylZ",
        "outputId": "8eb13adb-db8b-42da-f5c0-c69dc6fc5593"
      },
      "source": [
        "# Initialize lists for later visualization.\r\n",
        "train_losses = []\r\n",
        "test_losses = []\r\n",
        "\r\n",
        "#testing once before we begin, so that be have the first datapoints\r\n",
        "test_loss = test(model, test_data, lossfunction)\r\n",
        "test_losses.append(test_loss)\r\n",
        "\r\n",
        "\r\n",
        "#check how model performs on train data once before we begin, so that we have a baseline\r\n",
        "train_loss = test(model, train_data, lossfunction)\r\n",
        "train_losses.append(train_loss)"
      ],
      "execution_count": null,
      "outputs": [
        {
          "output_type": "display_data",
          "data": {
            "image/png": "[encoded data removed]",
            "text/plain": [
              "<Figure size 432x288 with 2 Axes>"
            ]
          },
          "metadata": {
            "tags": [],
            "needs_background": "light"
          }
        },
        {
          "output_type": "display_data",
          "data": {
            "image/png": "[encoded data removed]",
            "text/plain": [
              "<Figure size 432x288 with 2 Axes>"
            ]
          },
          "metadata": {
            "tags": [],
            "needs_background": "light"
          }
        }
      ]
    },
    {
      "cell_type": "code",
      "metadata": {
        "colab": {
          "base_uri": "https://localhost:8080/"
        },
        "id": "TSWZLl2gdti6",
        "outputId": "fdf0e435-f3de-4cf6-8e70-3f7e8b4a5db5"
      },
      "source": [
        "#After training once the model is built and we can look at its architecture and its parameters\r\n",
        "print(model.summary())"
      ],
      "execution_count": null,
      "outputs": [
        {
          "output_type": "stream",
          "text": [
            "Model: \"cov__autoencoder_1\"\n",
            "_________________________________________________________________\n",
            "Layer (type)                 Output Shape              Param #   \n",
            "=================================================================\n",
            "encoder_1 (Encoder)          multiple                  68938     \n",
            "_________________________________________________________________\n",
            "decoder_1 (Decoder)          multiple                  108929    \n",
            "=================================================================\n",
            "Total params: 177,867\n",
            "Trainable params: 177,867\n",
            "Non-trainable params: 0\n",
            "_________________________________________________________________\n",
            "None\n"
          ],
          "name": "stdout"
        }
      ]
    },
    {
      "cell_type": "markdown",
      "metadata": {
        "id": "anY6HIL4eHav"
      },
      "source": [
        "**Training Loop**"
      ]
    },
    {
      "cell_type": "code",
      "metadata": {
        "colab": {
          "base_uri": "https://localhost:8080/",
          "height": 1000
        },
        "id": "jljZN-h-dyCz",
        "outputId": "3c158af8-f02a-40e4-a2ca-721e881e84a2"
      },
      "source": [
        "# We train for trainforNepochs epochs.\r\n",
        "for epoch in range(trainforNepochs):\r\n",
        "\r\n",
        "    #!!!!!!!!!!!!just some fun runtime approximation that you can ignore :D\r\n",
        "    if epoch == 0:              #before the first epoch we dont know how much time is going to pass.\r\n",
        "      start = time.time()       #what we know is, when we started!\r\n",
        "      time_remaining=\"Unknown\"\r\n",
        "    else:\r\n",
        "      now = time.time()                                         \r\n",
        "      time_per_epoch = ((now-start)/epoch)                      #average of the time per epoch\r\n",
        "      remaining_epochs = trainforNepochs-epoch                  #numbers of remaining epochs\r\n",
        "      time_remaining = round(time_per_epoch*remaining_epochs,0)\r\n",
        "    print(\"\",end=\"\\r\")\r\n",
        "    print('Epoch:',str(epoch + 1 ),\"of\",str(trainforNepochs)+\" Time remaining:\", time_remaining, \"seconds.       \"+\"[\"+\"=\"*int((epoch/trainforNepochs)*100)+\"-\"*int(((trainforNepochs-epoch)/trainforNepochs)*100)+\"]\", end=\"\")\r\n",
        "    #!!!!!!!!!!!end of the runtime approximation\r\n",
        "    \r\n",
        "\r\n",
        "\r\n",
        "    #training (and checking in with training)\r\n",
        "    running_average = 0\r\n",
        "    for input in train_data:                           #Training the model as long as we have training data\r\n",
        "        train_loss = train_step(model, input, input, lossfunction, optimizer)\r\n",
        "        running_average = running_average_factor * running_average  + (1 - running_average_factor) * train_loss\r\n",
        "\r\n",
        "\r\n",
        "    train_losses.append(running_average)\r\n",
        "\r\n",
        "    #testing how good the model performed in the current step\r\n",
        "    test_loss = test(model, test_data, lossfunction)\r\n",
        "    test_losses.append(test_loss)\r\n",
        "    \r\n",
        "\r\n",
        "\r\n",
        "now = time.time()\r\n",
        "\r\n",
        "print(\"Finished after\",round(now-start,0),\"seconds.\")"
      ],
      "execution_count": null,
      "outputs": [
        {
          "output_type": "stream",
          "text": [
            "\rEpoch: 1 of 10 Time remaining: Unknown seconds.       [----------------------------------------------------------------------------------------------------]"
          ],
          "name": "stdout"
        },
        {
          "output_type": "display_data",
          "data": {
            "image/png": "[encoded data removed]",
            "text/plain": [
              "<Figure size 432x288 with 2 Axes>"
            ]
          },
          "metadata": {
            "tags": [],
            "needs_background": "light"
          }
        },
        {
          "output_type": "stream",
          "text": [
            "\rEpoch: 2 of 10 Time remaining: 68.0 seconds.       [==========------------------------------------------------------------------------------------------]"
          ],
          "name": "stdout"
        },
        {
          "output_type": "display_data",
          "data": {
            "image/png": "[encoded data removed]",
            "text/plain": [
              "<Figure size 432x288 with 2 Axes>"
            ]
          },
          "metadata": {
            "tags": [],
            "needs_background": "light"
          }
        },
        {
          "output_type": "stream",
          "text": [
            "\rEpoch: 3 of 10 Time remaining: 56.0 seconds.       [====================--------------------------------------------------------------------------------]"
          ],
          "name": "stdout"
        },
        {
          "output_type": "display_data",
          "data": {
            "image/png": "[encoded data removed]",
            "text/plain": [
              "<Figure size 432x288 with 2 Axes>"
            ]
          },
          "metadata": {
            "tags": [],
            "needs_background": "light"
          }
        },
        {
          "output_type": "stream",
          "text": [
            "\rEpoch: 4 of 10 Time remaining: 48.0 seconds.       [==============================----------------------------------------------------------------------]"
          ],
          "name": "stdout"
        },
        {
          "output_type": "display_data",
          "data": {
            "image/png": "[encoded data removed]",
            "text/plain": [
              "<Figure size 432x288 with 2 Axes>"
            ]
          },
          "metadata": {
            "tags": [],
            "needs_background": "light"
          }
        },
        {
          "output_type": "stream",
          "text": [
            "\rEpoch: 5 of 10 Time remaining: 41.0 seconds.       [========================================------------------------------------------------------------]"
          ],
          "name": "stdout"
        },
        {
          "output_type": "display_data",
          "data": {
            "image/png": "[encoded data removed]",
            "text/plain": [
              "<Figure size 432x288 with 2 Axes>"
            ]
          },
          "metadata": {
            "tags": [],
            "needs_background": "light"
          }
        },
        {
          "output_type": "stream",
          "text": [
            "\rEpoch: 6 of 10 Time remaining: 34.0 seconds.       [==================================================--------------------------------------------------]"
          ],
          "name": "stdout"
        },
        {
          "output_type": "display_data",
          "data": {
            "image/png": "[encoded data removed]",
            "text/plain": [
              "<Figure size 432x288 with 2 Axes>"
            ]
          },
          "metadata": {
            "tags": [],
            "needs_background": "light"
          }
        },
        {
          "output_type": "stream",
          "text": [
            "\rEpoch: 7 of 10 Time remaining: 27.0 seconds.       [============================================================----------------------------------------]"
          ],
          "name": "stdout"
        },
        {
          "output_type": "display_data",
          "data": {
            "image/png": "[encoded data removed]",
            "text/plain": [
              "<Figure size 432x288 with 2 Axes>"
            ]
          },
          "metadata": {
            "tags": [],
            "needs_background": "light"
          }
        },
        {
          "output_type": "stream",
          "text": [
            "\rEpoch: 8 of 10 Time remaining: 20.0 seconds.       [======================================================================------------------------------]"
          ],
          "name": "stdout"
        },
        {
          "output_type": "display_data",
          "data": {
            "image/png": "[encoded data removed]",
            "text/plain": [
              "<Figure size 432x288 with 2 Axes>"
            ]
          },
          "metadata": {
            "tags": [],
            "needs_background": "light"
          }
        },
        {
          "output_type": "stream",
          "text": [
            "\rEpoch: 9 of 10 Time remaining: 13.0 seconds.       [================================================================================--------------------]"
          ],
          "name": "stdout"
        },
        {
          "output_type": "display_data",
          "data": {
            "image/png": "[encoded data removed]",
            "text/plain": [
              "<Figure size 432x288 with 2 Axes>"
            ]
          },
          "metadata": {
            "tags": [],
            "needs_background": "light"
          }
        },
        {
          "output_type": "stream",
          "text": [
            "\rEpoch: 10 of 10 Time remaining: 7.0 seconds.       [==========================================================================================----------]"
          ],
          "name": "stdout"
        },
        {
          "output_type": "display_data",
          "data": {
            "image/png": "[encoded data removed]",
            "text/plain": [
              "<Figure size 432x288 with 2 Axes>"
            ]
          },
          "metadata": {
            "tags": [],
            "needs_background": "light"
          }
        },
        {
          "output_type": "stream",
          "text": [
            "Finished after 67.0 seconds.\n"
          ],
          "name": "stdout"
        }
      ]
    },
    {
      "cell_type": "code",
      "metadata": {
        "colab": {
          "base_uri": "https://localhost:8080/",
          "height": 279
        },
        "id": "e6VFMHfGeN1R",
        "outputId": "62670eb8-d6b9-4990-bc32-b7600783e017"
      },
      "source": [
        "# Visualize loss for training and test data. \r\n",
        "# One plot training and test loss.\r\n",
        "\r\n",
        "plt.figure()\r\n",
        "line1, = plt.plot(train_losses,'r--')\r\n",
        "line2, = plt.plot(test_losses, 'b-')\r\n",
        "plt.xlabel(\"Training steps\")\r\n",
        "plt.ylabel(\"Loss\")\r\n",
        "plt.legend((line1,line2),(\"training\",\"test\"))\r\n",
        "plt.show()"
      ],
      "execution_count": null,
      "outputs": [
        {
          "output_type": "display_data",
          "data": {
            "image/png": "[encoded data removed]",
            "text/plain": [
              "<Figure size 432x288 with 1 Axes>"
            ]
          },
          "metadata": {
            "tags": [],
            "needs_background": "light"
          }
        }
      ]
    },
    {
      "cell_type": "markdown",
      "metadata": {
        "id": "5kak3slYAA5v"
      },
      "source": [
        "**3.2 Variational Autoencoder**\r\n",
        "\r\n",
        "same thing for VAE"
      ]
    },
    {
      "cell_type": "code",
      "metadata": {
        "id": "SZ0vlQROAGGJ"
      },
      "source": [
        ""
      ],
      "execution_count": null,
      "outputs": []
    },
    {
      "cell_type": "markdown",
      "metadata": {
        "id": "PMFl7gK6yCkF"
      },
      "source": [
        "# 4.) Latent Space Analysis"
      ]
    },
    {
      "cell_type": "markdown",
      "metadata": {
        "id": "VxPmIIeMdecR"
      },
      "source": [
        ""
      ]
    },
    {
      "cell_type": "code",
      "metadata": {
        "id": "IDsCs1YN1m9E"
      },
      "source": [
        "#Prepare Test Data Set for Analysis\r\n",
        " \r\n",
        "\r\n",
        "LSA_test_data_img = tf.data.Dataset.from_tensor_slices(test_images)\r\n",
        "# expand the images to have explicitly the channel dimension 1\r\n",
        "LSA_test_data_img = LSA_test_data_img.map(lambda img : tf.cast(tf.expand_dims(img, -1), tf.float32))\r\n",
        "LSA_test_data_img = LSA_test_data_img.map(lambda img : normalize_0_1(img))\r\n",
        "\r\n",
        "LSA_test_data_labels = tf.data.Dataset.from_tensor_slices(test_labels)\r\n",
        "\r\n",
        "LSA_test_data = tf.data.Dataset.zip((LSA_test_data_img, LSA_test_data_labels))\r\n",
        "LSA_test_data = LSA_test_data.batch(1000)"
      ],
      "execution_count": null,
      "outputs": []
    },
    {
      "cell_type": "code",
      "metadata": {
        "id": "o9qyU8NUyCV7",
        "colab": {
          "base_uri": "https://localhost:8080/"
        },
        "outputId": "cc9c4cb3-77b7-4861-d29f-9b2386f321a5"
      },
      "source": [
        "from sklearn.manifold import TSNE\r\n",
        "\r\n",
        "embeddings = []\r\n",
        "embed_pre = []\r\n",
        "embed = []\r\n",
        "labels = []\r\n",
        "for data in LSA_test_data.take(1):\r\n",
        "  #plt.imshow(tf.reshape(data[0][0],(28,28)))\r\n",
        "  embed_pre = model.encoder(data[0], training = False)\r\n",
        "  labels = data[1]\r\n",
        "  print(embed_pre.shape)\r\n",
        "  #print(embed.shape)\r\n",
        "  embed = TSNE(n_components = 2).fit_transform(embed_pre)\r\n",
        "  print(embed.shape)\r\n",
        "  print(data[1].shape)\r\n",
        "  \r\n",
        "\r\n",
        "print(embed.shape)\r\n",
        "print(labels.shape)\r\n",
        "  \r\n",
        "for i in range(len(embed)):\r\n",
        "    embeddings.append((embed[i], labels[i].numpy()))"
      ],
      "execution_count": null,
      "outputs": [
        {
          "output_type": "stream",
          "text": [
            "(1000, 10)\n",
            "(1000, 2)\n",
            "(1000,)\n",
            "(1000, 2)\n",
            "(1000,)\n"
          ],
          "name": "stdout"
        }
      ]
    },
    {
      "cell_type": "code",
      "metadata": {
        "colab": {
          "base_uri": "https://localhost:8080/",
          "height": 265
        },
        "id": "hbwt3_M24T4q",
        "outputId": "684fa213-5f8d-4bb5-e77e-41bd423feca0"
      },
      "source": [
        "colors = {0:'red',1:'blue',2:'yellow',3:'green',4:'black',5:'brown',6:'orange',7:'pink',8:'violet',9:'grey'}\r\n",
        "\r\n",
        "for emb in embeddings:\r\n",
        "  #print(emb[0])\r\n",
        "  #print(emb[1])\r\n",
        "  plt.scatter(emb[0][0], emb[0][1], marker = \"o\", color = colors[emb[1]])"
      ],
      "execution_count": null,
      "outputs": [
        {
          "output_type": "display_data",
          "data": {
            "image/png": "[encoded data removed]",
            "text/plain": [
              "<Figure size 432x288 with 1 Axes>"
            ]
          },
          "metadata": {
            "tags": [],
            "needs_background": "light"
          }
        }
      ]
    },
    {
      "cell_type": "markdown",
      "metadata": {
        "id": "P14LU4Zfdg4w"
      },
      "source": [
        "The picture above describes the embedding representation, reduced to 2 dimensions, of elements of different classes (depicted by different colors). As you can see, they form semantic regions in the latent space. In a VAE one would expect the regions to fill out the complete space."
      ]
    },
    {
      "cell_type": "code",
      "metadata": {
        "id": "u0xerCLu6N_i",
        "colab": {
          "base_uri": "https://localhost:8080/",
          "height": 1000
        },
        "outputId": "3ab7be32-0117-4a94-fe1a-c1a219a8d845"
      },
      "source": [
        "def Embed_decode_show(embed):\r\n",
        "  embed = tf.expand_dims(embed, 1)\r\n",
        "  embed = tf.reshape(embed, (1,10))\r\n",
        "  img = model.decoder(embed, batch_size = 1, training = False)\r\n",
        "  plt.imshow(tf.reshape(img,(28,28)), cmap = 'gray')\r\n",
        "  plt.show()\r\n",
        "\r\n",
        "\r\n",
        "#interpolate between to embeddings and restruct a image based on that\r\n",
        "emb1 = embed_pre[0]\r\n",
        "emb2 = embed_pre[1]\r\n",
        "print(\"Before Interpolation\")\r\n",
        "Embed_decode_show(emb1)\r\n",
        "Embed_decode_show(emb2)\r\n",
        "interpolation_emb = emb1 - emb2\r\n",
        "\r\n",
        "print(\"Interpolation Process\")\r\n",
        "for i in range(0,11,2):\r\n",
        "  f=i/10\r\n",
        "  interpolation_emb=f*emb1+(1-f)*emb2\r\n",
        "  Embed_decode_show(interpolation_emb)\r\n",
        "\r\n"
      ],
      "execution_count": null,
      "outputs": [
        {
          "output_type": "stream",
          "text": [
            "Before Interpolation\n"
          ],
          "name": "stdout"
        },
        {
          "output_type": "display_data",
          "data": {
            "image/png": "[encoded data removed]",
            "text/plain": [
              "<Figure size 432x288 with 1 Axes>"
            ]
          },
          "metadata": {
            "tags": [],
            "needs_background": "light"
          }
        },
        {
          "output_type": "display_data",
          "data": {
            "image/png": "[encoded data removed]",
            "text/plain": [
              "<Figure size 432x288 with 1 Axes>"
            ]
          },
          "metadata": {
            "tags": [],
            "needs_background": "light"
          }
        },
        {
          "output_type": "stream",
          "text": [
            "Interpolation Process\n"
          ],
          "name": "stdout"
        },
        {
          "output_type": "display_data",
          "data": {
            "image/png": "[encoded data removed]",
            "text/plain": [
              "<Figure size 432x288 with 1 Axes>"
            ]
          },
          "metadata": {
            "tags": [],
            "needs_background": "light"
          }
        },
        {
          "output_type": "display_data",
          "data": {
            "image/png": "[encoded data removed]",
            "text/plain": [
              "<Figure size 432x288 with 1 Axes>"
            ]
          },
          "metadata": {
            "tags": [],
            "needs_background": "light"
          }
        },
        {
          "output_type": "display_data",
          "data": {
            "image/png": "[encoded data removed]",
            "text/plain": [
              "<Figure size 432x288 with 1 Axes>"
            ]
          },
          "metadata": {
            "tags": [],
            "needs_background": "light"
          }
        },
        {
          "output_type": "display_data",
          "data": {
            "image/png": "[encoded data removed]",
            "text/plain": [
              "<Figure size 432x288 with 1 Axes>"
            ]
          },
          "metadata": {
            "tags": [],
            "needs_background": "light"
          }
        },
        {
          "output_type": "display_data",
          "data": {
            "image/png": "[encoded data removed]",
            "text/plain": [
              "<Figure size 432x288 with 1 Axes>"
            ]
          },
          "metadata": {
            "tags": [],
            "needs_background": "light"
          }
        },
        {
          "output_type": "display_data",
          "data": {
            "image/png": "[encoded data removed]",
            "text/plain": [
              "<Figure size 432x288 with 1 Axes>"
            ]
          },
          "metadata": {
            "tags": [],
            "needs_background": "light"
          }
        }
      ]
    },
    {
      "cell_type": "markdown",
      "metadata": {
        "id": "v5NlN-4iic4S"
      },
      "source": [
        "In the pictures above one can see the pictures that were generated by interpolating the embeddings of two different classes. Especially interesting are the pictures with interpolation factor i=0,4 and i=0,6 since these are mixtures of both classes."
      ]
    },
    {
      "cell_type": "code",
      "metadata": {
        "id": "b3S_LBehU6im"
      },
      "source": [
        ""
      ],
      "execution_count": null,
      "outputs": []
    }
  ]
}