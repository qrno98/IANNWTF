{
  "nbformat": 4,
  "nbformat_minor": 0,
  "metadata": {
    "colab": {
      "name": "HW10_NLP_NegativeSampling.ipynb",
      "provenance": [],
      "collapsed_sections": []
    },
    "kernelspec": {
      "name": "python3",
      "display_name": "Python 3"
    },
    "accelerator": "GPU"
  },
  "cells": [
    {
      "cell_type": "code",
      "metadata": {
        "id": "Pevwz5BUxteD",
        "colab": {
          "base_uri": "https://localhost:8080/"
        },
        "outputId": "321a2608-34bb-470f-efa8-3aba3ee4b7de"
      },
      "source": [
        "SEED = 42\r\n",
        "from numpy.random import seed\r\n",
        "from tensorflow.random import set_seed\r\n",
        "seed(SEED)\r\n",
        "set_seed(SEED)\r\n",
        "\r\n",
        "import numpy as np\r\n",
        "import tensorflow as tf\r\n",
        "import tensorflow_datasets as tfds\r\n",
        "import matplotlib.pyplot as plt\r\n",
        "import nltk\r\n",
        "from nltk import ngrams\r\n",
        "from nltk.tokenize import sent_tokenize, word_tokenize\r\n",
        "from nltk.probability import FreqDist\r\n",
        "nltk.download('punkt')\r\n",
        "import re\r\n"
      ],
      "execution_count": 1,
      "outputs": [
        {
          "output_type": "stream",
          "text": [
            "[nltk_data] Downloading package punkt to /root/nltk_data...\n",
            "[nltk_data]   Package punkt is already up-to-date!\n"
          ],
          "name": "stdout"
        }
      ]
    },
    {
      "cell_type": "markdown",
      "metadata": {
        "id": "rQQZSbc0yIsS"
      },
      "source": [
        "# 1 Dataset \r\n",
        "\r\n",
        "Dataset: tiny shakespeare dataset \r\n",
        "- 40000 lines of shakespeare text\r\n",
        "\r\n",
        "Steps:\r\n",
        "- Download\r\n",
        "- Convert to numpy array"
      ]
    },
    {
      "cell_type": "code",
      "metadata": {
        "id": "EWjMiA1qyIDW"
      },
      "source": [
        "train_data = tfds.load(name='tiny_shakespeare')['train']                    "
      ],
      "execution_count": 2,
      "outputs": []
    },
    {
      "cell_type": "code",
      "metadata": {
        "id": "w7CS5T3jzKz3"
      },
      "source": [
        "text_ds = []\r\n",
        "for e in train_data:\r\n",
        "  text_ds.append(e['text'])\r\n",
        "\r\n",
        "#Convert string tensor to byte object to string array\r\n",
        "text_data = str(text_ds[0].numpy(),'utf-8')"
      ],
      "execution_count": 3,
      "outputs": []
    },
    {
      "cell_type": "markdown",
      "metadata": {
        "id": "tDX3EHY48hM6"
      },
      "source": [
        "# 2 Word Embeddings\r\n",
        "\r\n",
        "**2.1) Preprocessing**\r\n",
        "Steps:\r\n",
        " - Filter most common 10.000 words\r\n",
        " - Assign IDs to each of the 10.000 words\r\n",
        " - Create a dictionary for translation ID <> word\r\n",
        " - Create input-target pairs [ input word w, context window 4, 3 pairs { (w, context_word1), (w, context_word2), (w, context_word3) } ]\r\n",
        " - [OUTSTANDING]: Subsampling according to probability formula"
      ]
    },
    {
      "cell_type": "markdown",
      "metadata": {
        "id": "6lMv1YKJ5uf7"
      },
      "source": [
        "###Line Seperation and normalization"
      ]
    },
    {
      "cell_type": "code",
      "metadata": {
        "id": "kmb1IyMh77cO",
        "colab": {
          "base_uri": "https://localhost:8080/"
        },
        "outputId": "bb124319-9128-4b5f-a6a0-31cd5078fc1b"
      },
      "source": [
        "lines = text_data.split(sep = '\\n')\r\n",
        "print(\"Count of lines: \" + str(len(lines)))"
      ],
      "execution_count": 4,
      "outputs": [
        {
          "output_type": "stream",
          "text": [
            "Count of lines: 35526\n"
          ],
          "name": "stdout"
        }
      ]
    },
    {
      "cell_type": "code",
      "metadata": {
        "id": "D6B12cgiuFIG"
      },
      "source": [
        "def normalize_line(line):\r\n",
        "\r\n",
        "  #delete non Alphabetical inputs\r\n",
        "  match1 = re.compile('[^a-zA-Z ]')\r\n",
        "  line = match1.sub(\"\",line)\r\n",
        "\r\n",
        "  #lowercasing\r\n",
        "  line = line.lower()\r\n",
        "\r\n",
        "  #\r\n",
        "\r\n",
        "  return line"
      ],
      "execution_count": 5,
      "outputs": []
    },
    {
      "cell_type": "markdown",
      "metadata": {
        "id": "1SCxV0m46AyY"
      },
      "source": [
        "###Tokenization"
      ]
    },
    {
      "cell_type": "code",
      "metadata": {
        "id": "XT-VEQF6xZ2n"
      },
      "source": [
        "tokens=[]\r\n",
        "for line in lines:\r\n",
        "  line = normalize_line(line)\r\n",
        "  tokens += nltk.tokenize.word_tokenize(line)"
      ],
      "execution_count": 6,
      "outputs": []
    },
    {
      "cell_type": "markdown",
      "metadata": {
        "id": "dGMdvTSx6FOt"
      },
      "source": [
        "###Identifying most commen 1000"
      ]
    },
    {
      "cell_type": "code",
      "metadata": {
        "id": "GxzIhqDMzG6m"
      },
      "source": [
        "fdist = FreqDist(tokens)\r\n",
        "mostcommon = fdist.most_common(n=10000)"
      ],
      "execution_count": 7,
      "outputs": []
    },
    {
      "cell_type": "markdown",
      "metadata": {
        "id": "dH5HggUU6QPD"
      },
      "source": [
        "###WordToId and IdToWord"
      ]
    },
    {
      "cell_type": "code",
      "metadata": {
        "id": "qaZ-IBBaMzUs"
      },
      "source": [
        "#dictionary for ID <> most common words translation\r\n",
        "WordToId = {}\r\n",
        "IdToWord = {}\r\n",
        "\r\n",
        "for i in range (10000):\r\n",
        "  WordToId.update({mostcommon[i][0]:i+1})\r\n",
        "  IdToWord.update({i+1:mostcommon[i][0]})"
      ],
      "execution_count": 8,
      "outputs": []
    },
    {
      "cell_type": "markdown",
      "metadata": {
        "id": "g4n70aEa6cVY"
      },
      "source": [
        "###Only keep 10000 words in text."
      ]
    },
    {
      "cell_type": "code",
      "metadata": {
        "id": "cbwAq_UU1dh3"
      },
      "source": [
        "#filtering the text, so that only the tokens, which are in the top1000 of tokens stay in the text.\r\n",
        "text_10000 = []\r\n",
        "for token in tokens:\r\n",
        "  if(token in WordToId.keys()):\r\n",
        "    text_10000.append(token)\r\n"
      ],
      "execution_count": 9,
      "outputs": []
    },
    {
      "cell_type": "markdown",
      "metadata": {
        "id": "mxWmj9HO6WM-"
      },
      "source": [
        "###Identifying context"
      ]
    },
    {
      "cell_type": "code",
      "metadata": {
        "id": "M667JgHYuXI3"
      },
      "source": [
        "#context window size\r\n",
        "window_size = 1 #in every direction from the starting target word\r\n",
        "contexts=ngrams(text_10000, window_size*2+1)\r\n",
        "\r\n",
        "\r\n",
        "input_output = []\r\n",
        "inputs=[]\r\n",
        "input_target_dict={}\r\n",
        "for context in contexts:\r\n",
        "  #word is exactly the mode of the context vector\r\n",
        "  input = context[window_size]\r\n",
        "  inputs+=[input]\r\n",
        "\r\n",
        "\r\n",
        "  #das geht bestimmt hübscher...:D\r\n",
        "  #In case the input has not yet been detected\r\n",
        "  try:\r\n",
        "    input_target_dict[input]+=list(context[:window_size:])\r\n",
        "    #deleting double entries\r\n",
        "    #input_target_dict[input]=list(set(input_target_dict[input]))\r\n",
        "  except KeyError:\r\n",
        "    input_target_dict[input]=list(context[:window_size:])\r\n",
        "    #deleting double entries\r\n",
        "    #input_target_dict[input]=list(set(input_target_dict[input]))\r\n",
        "  "
      ],
      "execution_count": 10,
      "outputs": []
    },
    {
      "cell_type": "code",
      "metadata": {
        "colab": {
          "base_uri": "https://localhost:8080/"
        },
        "id": "TFXIlAJCutQW",
        "outputId": "124533c5-fb1f-4788-af30-28f73947fff8"
      },
      "source": [
        "count=0\r\n",
        "for key in input_target_dict.keys():\r\n",
        "  print(key,\":\",input_target_dict[key])\r\n",
        "  count+=1\r\n",
        "  if count==5:\r\n",
        "    break"
      ],
      "execution_count": 11,
      "outputs": [
        {
          "output_type": "stream",
          "text": [
            "citizen : ['first', 'first', 'first', 'first', 'second', 'first', 'second', 'second', 'first', 'second', 'first', 'second', 'first', 'first', 'second', 'first', 'first', 'first', 'first', 'first', 'first', 'first', 'first', 'first', 'first', 'first', 'first', 'first', 'first', 'first', 'second', 'third', 'first', 'third', 'second', 'third', 'second', 'third', 'second', 'third', 'third', 'second', 'third', 'third', 'first', 'second', 'third', 'second', 'fourth', 'fourth', 'fifth', 'fourth', 'sixth', 'seventh', 'first', 'second', 'third', 'first', 'second', 'third', 'third', 'second', 'first', 'first', 'a', 'sir', 'antium', 'you', 'first', 'first', 'second', 'third', 'first', 'second', 'first', 'second', 'first', 'second', 'third', 'first', 'third', 'second', 'third', 'first', 'third', 'second', 'first', 'third', 'first', 'third', 'first', 'third', 'second', 'third', 'second', 'third', 'a', 'first', 'first', 'first']\n",
            "before : ['citizen', 'down', 'down', 'shields', 'dined', 'forth', 'did', 'had', 'marcius', 'lips', 'last', 'weeds', 'there', 'known', 'life', 'hence', 'what', 'on', 'woman', 'done', 'way', 'tribe', 'here', 'i', 'ont', 'bald', 'down', 'which', 'lies', 'fellow', 'lay', 'pale', 'mile', 'kneeld', 'fire', 'will', 'kneel', 'this', 'shrinks', 'flowers', 'appear', 'known', 'made', 'strut', 'sent', 'you', 'run', 'make', 'all', 'days', 'death', 'not', 'as', 'citizen', 'swell', 'boar', 'on', 'return', 'thereof', 'lord', 'teeth', 'there', 'post', 'blunt', 'power', 'stand', 'height', 'leave', 'hither', 'knee', 'lives', 'thee', 'gone', 'hour', 'tongue', 'come', 'set', 'king', 'standing', 'lord', 'croppd', 'get', 'beggd', 'have', 'hour', 'said', 'that', 'day', 'mine', 'go', 'know', 'doublet', 'go', 'night', 'go', 'gone', 'enough', 'me', 'wake', 'night', 'lightning', 'dead', 'press', 'hour', 'york', 'death', 'far', 'pikes', 'life', 'took', 'speak', 'pray', 'ships', 'young', 'terms', 'much', 'away', 'though', 'speak', 'suit', 'much', 'lords', 'wars', 'ravenspurgh', 'betimes', 'depart', 'sin', 'go', 'wast', 'once', 'to', 'something', 'sir', 'air', 'long', 'bowd', 'not', 'come', 'be', 'danced', 'life', 'fair', 'not', 'up', 'walk', 'lets', 'performd', 'born', 'come', 'metal', 'the', 'here', 'detest', 'it', 'him', 'her', 'you', 'tricks', 'up', 'must', 'comes', 'answer', 'called', 'it', 'so', 'you', 'once', 'hour', 'kneel', 'speak', 'daughter', 'have', 'not']\n",
            "we : ['before', 'all', 'knowt', 'citizen', 'wholesome', 'think', 'ere', 'stay', 'what', 'know', 'citizen', 'sir', 'citizen', 'then', 'when', 'how', 'field', 'discovery', 'know', 'if', 'us', 'valeria', 'shall', 'that', 'shut', 'fought', 'sirs', 'whiles', 'gusts', 'as', 'briefly', 'marcius', 'wherein', 'blood', 'vows', 'darts', 'if', 'field', 'aufidius', 'hearts', 'steed', 'whereof', 'city', 'ere', 'us', 'whom', 'have', 'go', 'should', 'as', 'me', 'are', 'brutus', 'come', 'men', 'warriors', 'whom', 'end', 'whom', 'than', 'people', 'sicinius', 'rather', 'till', 'which', 'upont', 'wish', 'voices', 'citizen', 'if', 'citizen', 'that', 'deeds', 'deeds', 'which', 'once', 'citizen', 'behavior', 'citizen', 'if', 'thing', 'citizen', 'first', 'should', 'brutus', 'brutus', 'when', 'confirmd', 'that', 'say', 'place', 'all', 'come', 'which', 'that', 'them', 'which', 'words', 'which', 'well', 'words', 'it', 'thus', 'all', 'it', 'power', 'fast', 'and', 'for', 'have', 'that', 'what', 'when', 'sicinius', 'peace', 'tribunes', 'sicinius', 'and', 'repeal', 'whom', 'now', 'stay', 'thee', 'me', 'had', 'banishd', 'come', 'as', 'then', 'sicinius', 'need', 'do', 'brutus', 'neighbours', 'as', 'sicinius', 'whom', 'be', 'menenius', 'not', 'it', 'we', 'coal', 'faith', 'that', 'did', 'though', 'said', 'when', 'did', 'wheneer', 'that', 'too', 'moon', 'army', 'then', 'when', 'feeding', 'that', 'how', 'coriolanus', 'for', 'yet', 'should', 'life', 'are', 'poor', 'but', 'can', 'can', 'whereto', 'whereto', 'or', 'country', 'though', 'mercy', 'this', 'so', 'but', 'which', 'when', 'him', 'sir', 'sicinius', 'tell', 'as', 'that', 'which', 'lords', 'spoils', 'action', 'and', 'what', 'deliverd', 'clarence', 'if', 'thing', 'say', 'man', 'jealous', 'clarence', 'gloucester', 'madam', 'come', 'grant', 'that', 'enemies', 'should', 'not', 'catesby', 'madam', 'murderer', 'that', 'lord', 'assured', 'murderer', 'thence', 'as', 'shall', 'say', 'shall', 'then', 'as', 'what', 'do', 'so', 'shall', 'as', 'brother', 'when', 'buckingham', 'grandam', 'can', 'had', 'though', 'king', 'go', 'story', 'come', 'than', 'proof', 'marry', 'as', 'boy', 'forbid', 'shall', 'what', 'what', 'for', 'shall', 'ere', 'shall', 'if', 'somewhat', 'afterwards', 'and', 'shall', 'now', 'seat', 'until', 'why', 'grace', 'i', 'derby', 'which', 'reason', 'preservation', 'you', 'that', 'not', 'lord', 'end', 'hear', 'mayor', 'fear', 'here', 'recure', 'say', 'well', 'which', 'but', 'here', 'grace', 'then', 'joyfully', 'shall', 'and', 'shall', 'ere', 'on', 'shield', 'what', 'but', 'since', 'while', 'have', 'receive', 'as', 'norfolk', 'must', 'norfolk', 'that', 'whom', 'directed', 'you', 'as', 'sacrament', 'ii', 'this', 'down', 'ii', 'since', 'since', 'you', 'that', 'put', 'men', 'ii', 'lament', 'while', 'what', 'council', 'for', 'therefore', 'therein', 'that', 'years', 'ii', 'ii', 'light', 'for', 'god', 'wars', 'assistance', 'will', 'next', 'and', 'must', 'lords', 'storm', 'yet', 'ross', 'that', 'northumberland', 'then', 'green', 'and', 'shall', 'somewhat', 'do', 'because', 'vain', 'well', 'last', 'that', 'that', 'but', 'salisbury', 'yet', 'therefore', 'dead', 'and', 'offer', 'that', 'whilst', 'are', 'as', 'that', 'if', 'can', 'can', 'have', 'intelligence', 'here', 'ii', 'have', 'because', 'if', 'if', 'well', 'and', 'commends', 'do', 'shall', 'shall', 'do', 'shall', 'should', 'as', 'garden', 'branches', 'aumerle', 'till', 'treason', 'so', 'are', 'next', 'have', 'what', 'must', 'must', 'ii', 'will', 'are', 'have', 'are', 'that', 'denied', 'french', 'news', 'slain', 'bolingbroke', 'then', 'an', 'while', 'could', 'grow', 'shall', 'as', 'ere', 'awhile', 'capulet', 'shall', 'romeo', 'come', 'delay', 'and', 'and', 'servant', 'then', 'gone', 'shall', 'which', 'next', 'kind', 'how', 'met', 'as', 'that', 'and', 'if', 'meet', 'such', 'benvolio', 'immediately', 'dead', 'lady', 'till', 'that', 'iwell', 'thought', 'if', 'that', 'thou', 'capulet', 'that', 'wife', 'that', 'here', 'lord', 'which', 'gone', 'capulet', 'madam', 'when', 'that', 'faith', 'dump', 'that', 'as', 'than', 'search', 'woes', 'man', 'weeps', 'till', 'prince', 'while', 'hither', 'thinks', 'as', 'shall', 'that', 'you', 'away', 'do', 'that', 'whom', 'should', 'this', 'alas', 'whilst', 'taen', 'slain', 'methinks', 'that', 'gone', 'if', 'make', 'and', 'that', 'here', 'shall', 'shall', 'will', 'as', 'stay', 'and', 'when', 'increase', 'since', 'till', 'shall', 'weak', 'stand', 'until', 'if', 'make', 'breathe', 'what', 'while', 'will', 'stand', 'aim', 'now', 'linger', 'as', 'and', 'where', 'for', 'keeper', 'keeper', 'which', 'widow', 'chat', 'go', 'while', 'more', 'have', 'stay', 'to', 'till', 'are', 'guard', 'so', 'guard', 'when', 'that', 'while', 'us', 'shall', 'stay', 'and', 'have', 'remains', 'that', 'means', 'lords', 'now', 'gates', 'but', 'but', 'shall', 'when', 'brother', 'as', 'till', 'bend', 'if', 'that', 'stand', 'for', 'shall', 'live', 'how', 'die', 'as', 'are', 'now', 'and', 'as', 'iv', 'tewksbury', 'as', 'as', 'charge', 'before', 'deceived', 'hence', 'part', 'for', 'march', 'ourselves', 'more', 'have', 'have', 'that', 'us', 'knowledge', 'say', 'since', 'yet', 'one', 'leontes', 'polixenes', 'polixenes', 'what', 'innocence', 'had', 'blood', 'this', 'offences', 'spur', 'captain', 'say', 'as', 'me', 'us', 'but', 'success', 'apace', 'if', 'you', 'so', 'need', 'yourselves', 'have', 'us', 'the', 'might', 'farewell', 'lords', 'credit', 'knees', 'issue', 'time', 'pardon', 'that', 'grief', 'since', 'this', 'fear', 'that', 'have', 'way', 'where', 'what', 'camillo', 'while', 'which', 'maid', 'word', 'then', 'mopsa', 'dorcas', 'sir', 'yet', 'what', 'so', 'thorns', 'shall', 'do', 'have', 'poverty', 'have', 'thus', 'and', 'clown', 'but', 'are', 'talk', 'comfort', 'sister', 'clown', 'paulina', 'friendly', 'where', 'florizel', 'are', 'little', 'shall', 'so', 'ever', 'shepherd', 'as', 'for', 'now', 'paulina', 'but', 'have', 'but', 'as', 'where', 'first', 'that', 'which', 'know', 'as', 'if', 'more', 'value', 'that', 'and', 'speech', 'when', 'drink', 'that', 'this', 'whom', 'vincentio', 'years', 'for', 'shall', 'but', 'good', 'angelo', 'that', 'find', 'because', 'what', 'see', 'sir', 'our', 'shall', 'than', 'isabella', 'shall', 'showing', 'as', 'as', 'what', 'have', 'what', 'angelo', 'for', 'suppose', 'death', 'that', 'go', 'what', 'beasts', 'sir', 'for', 'which', 'that', 'duke', 'leave', 'have', 'drunk', 'have', 'do', 'if', 'shall', 'form', 'should', 'grace', 'right', 'and', 'come', 'friend', 'both', 'and', 'shall', 'vincentio', 'escalus', 'him', 'till', 'and', 'but', 'vantage', 'ours', 'him', 'secrecy', 'the', 'you', 'what', 'players', 'lord', 'walk', 'pictures', 'how', 'slip', 'while', 'ashore', 'but', 'that', 'husband', 'full', 'can', 'rise', 'as', 'since', 'promised', 'so', 'as', 'whom', 'ye']\n",
            "proceed : ['we', 'you', 'we', 'it', 'heels', 'well', 'must', 'can', 'law', 'orderly', 'shall', 'so', 'therefore', 'shall', 'leontes', 'should', 'shall', 'time', 'matter']\n",
            "any : ['proceed', 'daily', 'i', 'if', 'if', 'if', 'as', 'nor', 'without', 'you', 'without', 'poison', 'of', 'as', 'by', 'as', 'theres', 'us', 'mother', 'of', 'or', 'for', 'or', 'by', 'have', 'her', 'beggars', 'if', 'by', 'ever', 'is', 'of', 'pleasure', 'by', 'at', 'at', 'wifeif', 'not', 'to', 'hath', 'to', 'hath', 'for', 'if', 'or', 'in', 'complot', 'gainst', 'on', 'comfort', 'that', 'borrow', 'that', 'have', 'or', 'if', 'grant', 'nor', 'of', 'by', 'o', 'read', 'newbeloved', 'nor', 'by', 'if', 'forgetting', 'mercutio', 'for', 'can', 'speak', 'to', 'as', 'than', 'at', 'as', 'art', 'to', 'in', 'kingdom', 'nor', 'of', 'or', 'willing', 'hast', 'if', 'than', 'govern', 'for', 'as', 'if', 'if', 'that', 'with', 'by', 'as', 'women', 'trumpet', 'if', 'nor', 'antigonus', 'innocent', 'of', 'that', 'would', 'if', 'be', 'thee', 'lack', 'or', 'nor', 'to', 'with', 'does', 'he', 'buy', 'my', 'silk', 'thread', 'him', 'not', 'do', 'and', 'than', 'so', 'as', 'by', 'scarce', 'as', 'hath', 'if', 'with', 'heard', 'in', 'in', 'in', 'you', 'see', 'wife', 'than', 'had', 'into', 'upon', 'of', 'at', 'nor', 'there', 'of', 'in', 'in', 'at', 'hath', 'if', 'for', 'have', 'if', 'on', 'in', 'as', 'is', 'me', 'than', 'know', 'by', 'rich', 'in', 'there', 'at', 'at', 'it', 'to', 'than']\n"
          ],
          "name": "stdout"
        }
      ]
    },
    {
      "cell_type": "markdown",
      "metadata": {
        "id": "5cN82LnNHu5S"
      },
      "source": [
        "##Subsampling"
      ]
    },
    {
      "cell_type": "markdown",
      "metadata": {
        "id": "q7kS3xnPQw-k"
      },
      "source": [
        "\r\n",
        "Formula for Subsampling:\r\n",
        " $P(w_i) = (\\sqrt{\\frac{z(w_i)}{s}} + 1) \\cdot \\frac{s}{z(w_i)}$\r\n",
        "\r\n",
        "$P(w_i)$: probability for keeping a word (sample rate)\r\n",
        "\r\n",
        "$w_i$: the i-th word\r\n",
        "\r\n",
        "$z(w_i)$: fraction of the total words being $w_i$\r\n",
        "\r\n",
        "$s$: hyperparameter (we set $s=0.001$)"
      ]
    },
    {
      "cell_type": "code",
      "metadata": {
        "id": "u2wZexgU7yBP"
      },
      "source": [
        "def subsampling(fraction,min,max, s = 0.001):\r\n",
        "  prob = (np.sqrt(fraction / s) + 1 ) * (s / fraction) \r\n",
        "  \r\n",
        "  prob = (prob-min)/(max-min)\r\n",
        "  #result = {0 = discard word, 1 = keep word}\r\n",
        "  #print(prob)\r\n",
        "  #ERROR: prob > 1 or < 0\r\n",
        "  result = np.random.binomial(n = 1, p = prob)\r\n",
        "  #keep word?\r\n",
        "  #return (1 == 1)\r\n",
        "  return (result == 1)"
      ],
      "execution_count": 12,
      "outputs": []
    },
    {
      "cell_type": "code",
      "metadata": {
        "id": "3y16HeArx05Z"
      },
      "source": [
        "word_count=0\r\n",
        "for key in input_target_dict.keys():\r\n",
        "  word_count+=len(input_target_dict[key])"
      ],
      "execution_count": 13,
      "outputs": []
    },
    {
      "cell_type": "code",
      "metadata": {
        "colab": {
          "base_uri": "https://localhost:8080/"
        },
        "id": "WhsET1uJ-BC2",
        "outputId": "b9392fc8-d362-49ef-9ddc-5bdba2fcdcd5"
      },
      "source": [
        "input_output=[]\r\n",
        "for input in input_target_dict.keys():\r\n",
        "  for target in input_target_dict[input]:\r\n",
        "    input_output+=[(input, target)]\r\n",
        "print(len(input_output))"
      ],
      "execution_count": 14,
      "outputs": [
        {
          "output_type": "stream",
          "text": [
            "180574\n"
          ],
          "name": "stdout"
        }
      ]
    },
    {
      "cell_type": "code",
      "metadata": {
        "colab": {
          "base_uri": "https://localhost:8080/"
        },
        "id": "D16KH9FE16tH",
        "outputId": "bbe9482d-2d70-4b9d-cb49-6b6d1959ea13"
      },
      "source": [
        "s= 0.001\r\n",
        "\r\n",
        "min=(np.sqrt((mostcommon[0][1]/ word_count)/ s) + 1 ) * (s / (mostcommon[0][1]/ word_count))\r\n",
        "\r\n",
        "max=(np.sqrt((mostcommon[-1][1]/ word_count)/ s) + 1 ) * (s / (mostcommon[-1][1]/ word_count)) \r\n",
        "    \r\n",
        "print(min)\r\n",
        "print(max)\r\n",
        "\r\n",
        "for input in input_target_dict.keys():\r\n",
        "  for target in input_target_dict[input]:\r\n",
        "    \r\n",
        "\r\n",
        "    fraction = fdist[target] / word_count\r\n",
        "    #print(target)\r\n",
        "    #print(fraction)\r\n",
        "    keep_word = subsampling(fraction,min, max,s)\r\n",
        "    if not(keep_word):\r\n",
        "      input_target_dict[input].remove(target)\r\n"
      ],
      "execution_count": 15,
      "outputs": [
        {
          "output_type": "stream",
          "text": [
            "0.2092873315900598\n",
            "194.01178255516885\n"
          ],
          "name": "stdout"
        }
      ]
    },
    {
      "cell_type": "code",
      "metadata": {
        "colab": {
          "base_uri": "https://localhost:8080/"
        },
        "id": "3KdCHxnk4TLl",
        "outputId": "79f3f581-5779-4b0e-9227-baf80427b253"
      },
      "source": [
        "input_output=[]\r\n",
        "for input in input_target_dict.keys():\r\n",
        "  for target in input_target_dict[input]:\r\n",
        "    input_output+=[(input, target)]\r\n",
        "print(len(input_output))"
      ],
      "execution_count": 16,
      "outputs": [
        {
          "output_type": "stream",
          "text": [
            "90267\n"
          ],
          "name": "stdout"
        }
      ]
    },
    {
      "cell_type": "code",
      "metadata": {
        "colab": {
          "base_uri": "https://localhost:8080/"
        },
        "id": "jpUc0WrK9yjB",
        "outputId": "c4ac8502-c8ab-4ff0-9f4a-c92888eb3091"
      },
      "source": [
        "print(input_output[:30])"
      ],
      "execution_count": 17,
      "outputs": [
        {
          "output_type": "stream",
          "text": [
            "[('citizen', 'first'), ('citizen', 'first'), ('citizen', 'first'), ('citizen', 'first'), ('citizen', 'first'), ('citizen', 'fifth'), ('citizen', 'fourth'), ('citizen', 'sixth'), ('citizen', 'seventh'), ('citizen', 'first'), ('citizen', 'second'), ('citizen', 'first'), ('citizen', 'second'), ('citizen', 'third'), ('citizen', 'second'), ('citizen', 'first'), ('citizen', 'first'), ('citizen', 'sir'), ('citizen', 'antium'), ('citizen', 'first'), ('citizen', 'first'), ('citizen', 'second'), ('citizen', 'third'), ('citizen', 'first'), ('citizen', 'second'), ('citizen', 'first'), ('citizen', 'second'), ('citizen', 'first'), ('citizen', 'second'), ('citizen', 'third')]\n"
          ],
          "name": "stdout"
        }
      ]
    },
    {
      "cell_type": "code",
      "metadata": {
        "id": "hxeLneez5NCo"
      },
      "source": [
        "input_list=[WordToId[x] for (x,y) in input_output]\r\n",
        "target_list=[WordToId[y] for (x,y) in input_output]\r\n",
        "\r\n",
        "input_tensor=tf.data.Dataset.from_tensor_slices(input_list)\r\n",
        "target_tensor=tf.data.Dataset.from_tensor_slices(target_list)"
      ],
      "execution_count": 18,
      "outputs": []
    },
    {
      "cell_type": "markdown",
      "metadata": {
        "id": "HVzBSBuaILiq"
      },
      "source": [
        "#One Hot Encode "
      ]
    },
    {
      "cell_type": "code",
      "metadata": {
        "colab": {
          "base_uri": "https://localhost:8080/"
        },
        "id": "CpSDKmY2KxLi",
        "outputId": "10d56f93-b927-40a6-f65d-592c3609a096"
      },
      "source": [
        "for i in input_tensor.take(10):\r\n",
        "  print(i)"
      ],
      "execution_count": 19,
      "outputs": [
        {
          "output_type": "stream",
          "text": [
            "tf.Tensor(246, shape=(), dtype=int32)\n",
            "tf.Tensor(246, shape=(), dtype=int32)\n",
            "tf.Tensor(246, shape=(), dtype=int32)\n",
            "tf.Tensor(246, shape=(), dtype=int32)\n",
            "tf.Tensor(246, shape=(), dtype=int32)\n",
            "tf.Tensor(246, shape=(), dtype=int32)\n",
            "tf.Tensor(246, shape=(), dtype=int32)\n",
            "tf.Tensor(246, shape=(), dtype=int32)\n",
            "tf.Tensor(246, shape=(), dtype=int32)\n",
            "tf.Tensor(246, shape=(), dtype=int32)\n"
          ],
          "name": "stdout"
        }
      ]
    },
    {
      "cell_type": "code",
      "metadata": {
        "id": "KicU1KvD4pUQ"
      },
      "source": [
        "input_tensor=input_tensor.map(lambda input:tf.one_hot(input,10000))\r\n",
        "target_tensor=target_tensor.map(lambda target:tf.transpose(tf.one_hot(target,10000)))\r\n"
      ],
      "execution_count": 20,
      "outputs": []
    },
    {
      "cell_type": "code",
      "metadata": {
        "colab": {
          "base_uri": "https://localhost:8080/"
        },
        "id": "rbZEsggYI8Zb",
        "outputId": "50b608ae-928f-4dad-c618-e01365c99b72"
      },
      "source": [
        "for i in input_tensor.take(10):\r\n",
        "  print(i)\r\n",
        "  print(tf.argmax(i))"
      ],
      "execution_count": 21,
      "outputs": [
        {
          "output_type": "stream",
          "text": [
            "tf.Tensor([0. 0. 0. ... 0. 0. 0.], shape=(10000,), dtype=float32)\n",
            "tf.Tensor(246, shape=(), dtype=int64)\n",
            "tf.Tensor([0. 0. 0. ... 0. 0. 0.], shape=(10000,), dtype=float32)\n",
            "tf.Tensor(246, shape=(), dtype=int64)\n",
            "tf.Tensor([0. 0. 0. ... 0. 0. 0.], shape=(10000,), dtype=float32)\n",
            "tf.Tensor(246, shape=(), dtype=int64)\n",
            "tf.Tensor([0. 0. 0. ... 0. 0. 0.], shape=(10000,), dtype=float32)\n",
            "tf.Tensor(246, shape=(), dtype=int64)\n",
            "tf.Tensor([0. 0. 0. ... 0. 0. 0.], shape=(10000,), dtype=float32)\n",
            "tf.Tensor(246, shape=(), dtype=int64)\n",
            "tf.Tensor([0. 0. 0. ... 0. 0. 0.], shape=(10000,), dtype=float32)\n",
            "tf.Tensor(246, shape=(), dtype=int64)\n",
            "tf.Tensor([0. 0. 0. ... 0. 0. 0.], shape=(10000,), dtype=float32)\n",
            "tf.Tensor(246, shape=(), dtype=int64)\n",
            "tf.Tensor([0. 0. 0. ... 0. 0. 0.], shape=(10000,), dtype=float32)\n",
            "tf.Tensor(246, shape=(), dtype=int64)\n",
            "tf.Tensor([0. 0. 0. ... 0. 0. 0.], shape=(10000,), dtype=float32)\n",
            "tf.Tensor(246, shape=(), dtype=int64)\n",
            "tf.Tensor([0. 0. 0. ... 0. 0. 0.], shape=(10000,), dtype=float32)\n",
            "tf.Tensor(246, shape=(), dtype=int64)\n"
          ],
          "name": "stdout"
        }
      ]
    },
    {
      "cell_type": "code",
      "metadata": {
        "id": "21gOOMG3MZEB"
      },
      "source": [
        "\r\n",
        "\r\n",
        "train_ds=tf.data.Dataset.zip((input_tensor,target_tensor))"
      ],
      "execution_count": 22,
      "outputs": []
    },
    {
      "cell_type": "markdown",
      "metadata": {
        "id": "nUT4GUFmMuJD"
      },
      "source": [
        "###Batching and Shuffling"
      ]
    },
    {
      "cell_type": "code",
      "metadata": {
        "id": "5Z_HGBigMj1S"
      },
      "source": [
        "train_ds = train_ds.batch(64)\r\n",
        "train_ds = train_ds.shuffle(buffer_size = 64)\r\n",
        "train_ds = train_ds.prefetch(tf.data.experimental.AUTOTUNE)"
      ],
      "execution_count": 23,
      "outputs": []
    },
    {
      "cell_type": "markdown",
      "metadata": {
        "id": "pMCAmgDQNBBI"
      },
      "source": [
        "#2.2 Building the Model"
      ]
    },
    {
      "cell_type": "code",
      "metadata": {
        "colab": {
          "base_uri": "https://localhost:8080/"
        },
        "id": "LO3qX8FE4CyQ",
        "outputId": "3411174d-64fd-4955-ba6f-c4fe3226763d"
      },
      "source": [
        "tf.random.uniform([1], 1, 10000, dtype = tf.dtypes.int32).numpy()"
      ],
      "execution_count": 24,
      "outputs": [
        {
          "output_type": "execute_result",
          "data": {
            "text/plain": [
              "array([4140], dtype=int32)"
            ]
          },
          "metadata": {
            "tags": []
          },
          "execution_count": 24
        }
      ]
    },
    {
      "cell_type": "code",
      "metadata": {
        "id": "bZ8tXmN9M4a4"
      },
      "source": [
        "class encoder(tf.keras.layers.Layer):\r\n",
        "  def __init__(self, h=64):\r\n",
        "      super(encoder, self).__init__()\r\n",
        "      self.h=h\r\n",
        "      \r\n",
        "\r\n",
        "  def build(self, input_shape):  # Create the state of the layer (weights)\r\n",
        "    self.w = self.add_weight(\r\n",
        "            shape=(input_shape[-1], self.h),\r\n",
        "            initializer=\"random_normal\",\r\n",
        "            trainable=True,\r\n",
        "        )\r\n",
        "  def call(self, inputs, targets):  # Defines the computation from inputs to outputs\r\n",
        "      #print(self.w.shape)\r\n",
        "      #print(inputs.shape)\r\n",
        "      #print(tf.argmax(inputs))\r\n",
        "      embeddings = tf.nn.embedding_lookup(self.w, tf.argmax(inputs, axis = 1))\r\n",
        "      embed_size = self.w.shape[-1]\r\n",
        "      vocab_size = self.w.shape[-2]\r\n",
        "      #print(embed_size)\r\n",
        "      #print(vocab_size)\r\n",
        "      \r\n",
        "      labels = tf.reshape(tf.argmax(targets,1), [-1,1])\r\n",
        "      #loss for SGD\r\n",
        "      #print(labels.shape)\r\n",
        "      loss = tf.reduce_mean(\r\n",
        "          tf.nn.sampled_softmax_loss(\r\n",
        "              weights = self.w,\r\n",
        "              biases = tf.Variable(tf.zeros([embed_size])),\r\n",
        "              labels = labels,\r\n",
        "              inputs = embeddings,\r\n",
        "              #num of randomly sampled negative samples\r\n",
        "              num_sampled = 1000,\r\n",
        "              num_classes = vocab_size\r\n",
        "          )\r\n",
        "      )\r\n",
        "      #score for accuracy\r\n",
        "      output_score = tf.matmul(embeddings, tf.transpose(self.w))\r\n",
        "      return loss, output_score"
      ],
      "execution_count": 25,
      "outputs": []
    },
    {
      "cell_type": "code",
      "metadata": {
        "id": "gM4ziVDQg0rt"
      },
      "source": [
        "class decoder(tf.keras.layers.Layer):\r\n",
        "  def __init__(self, V=10000):\r\n",
        "      super(decoder, self).__init__()\r\n",
        "      self.V=V\r\n",
        "      \r\n",
        "\r\n",
        "  def build(self, input_shape):  # Create the state of the layer (weights)\r\n",
        "    self.w = self.add_weight(\r\n",
        "            shape=(input_shape[-1], self.V),\r\n",
        "            initializer=\"random_normal\",\r\n",
        "            trainable=True,\r\n",
        "        )\r\n",
        "\r\n",
        "  def call(self, inputs):  # Defines the computation from inputs to outputs\r\n",
        "      #print(self.w.shape)\r\n",
        "      x = tf.matmul(inputs, self.w)\r\n",
        "      x = tf.keras.activations.softmax(x)\r\n",
        "      #print(x.shape)\r\n",
        "      return x"
      ],
      "execution_count": 26,
      "outputs": []
    },
    {
      "cell_type": "code",
      "metadata": {
        "id": "wQOjqHP_iRR9"
      },
      "source": [
        "class Model(tf.keras.Model):\r\n",
        "  def __init__(self, V=10000):\r\n",
        "      super(Model, self).__init__()\r\n",
        "      self.encoder = encoder(h=64)\r\n",
        "      self.decoder = decoder(V=V)\r\n",
        "\r\n",
        "  def call(self, inputs, targets):  # Defines the computation from inputs to outputs\r\n",
        "      loss, output_score = self.encoder(inputs, targets)\r\n",
        "      #x = self.decoder(x)\r\n",
        "      return loss, output_score"
      ],
      "execution_count": 27,
      "outputs": []
    },
    {
      "cell_type": "code",
      "metadata": {
        "colab": {
          "base_uri": "https://localhost:8080/"
        },
        "id": "a8LtMf9BY4_K",
        "outputId": "1a70df85-48dc-4256-b3d0-43af021f12a6"
      },
      "source": [
        "model = Model()\r\n",
        "#encoder = encoder()\r\n",
        "#decoder = decoder()\r\n",
        "for (input, target) in train_ds.take(5):\r\n",
        "  #print(input.shape)\r\n",
        "  #print(target.shape)\r\n",
        "  #print(encoder(input).shape)\r\n",
        "  #print(np.sum(test_dec(input), axis = -1))\r\n",
        "  #print(tf.argmax(input, axis = 1))\r\n",
        "  #print(tf.argmax(target, axis = 1))\r\n",
        "  loss, output_score = model(input, target)\r\n",
        "  print(loss)\r\n",
        "  print(output_score.shape)\r\n",
        "  print(tf.argmax(output_score, axis = 1))"
      ],
      "execution_count": 28,
      "outputs": [
        {
          "output_type": "stream",
          "text": [
            "tf.Tensor(8.344749, shape=(), dtype=float32)\n",
            "(64, 10000)\n",
            "tf.Tensor(\n",
            "[41 41 41 41 41 41 41 41 41 41 41 41 41 41 41 41 41 41 41 41 41 41 41 41\n",
            " 41 41 41 41 41 41 41 41 41 41 41 41 41 41 41 41 41 41 41 41 41 41 41 41\n",
            " 41 41 41 41 41 41 41 41 41 41 41 41 41 41 41 41], shape=(64,), dtype=int64)\n",
            "tf.Tensor(8.812876, shape=(), dtype=float32)\n",
            "(64, 10000)\n",
            "tf.Tensor(\n",
            "[7 7 7 7 7 7 7 7 7 7 7 7 7 7 7 7 7 7 7 7 7 7 7 7 7 7 7 7 7 7 7 7 7 7 7 7 7\n",
            " 7 7 7 7 7 7 7 7 7 7 7 7 7 7 7 7 7 7 7 7 7 7 7 7 7 7 7], shape=(64,), dtype=int64)\n",
            "tf.Tensor(8.904131, shape=(), dtype=float32)\n",
            "(64, 10000)\n",
            "tf.Tensor(\n",
            "[107 107 107 107 107 107 107 107 107 107 107 107 107 107 107 107 107 107\n",
            " 107 107 107 107 107 107 107 107 107 107 107 107 107 107 107 107 107 107\n",
            " 107 107 107 107 107 107 107 107 107 107 107 107 107 107 107 107  35  35\n",
            "  35  35  35  35  35  35  35  35  35  35], shape=(64,), dtype=int64)\n",
            "tf.Tensor(8.695111, shape=(), dtype=float32)\n",
            "(64, 10000)\n",
            "tf.Tensor(\n",
            "[41 41 41 41 41 41 41 41 41 41 41 41 41 41 41 41 41 41 41 41 41 41 41 41\n",
            " 41 41 41 41 41 41 41 41 41 41 41 41 41 41 41 41 41 41 41 41 41 41 41 41\n",
            " 41 41 41 41 41 41 41 41 41 41 41 41 41 41 41 41], shape=(64,), dtype=int64)\n",
            "tf.Tensor(8.786331, shape=(), dtype=float32)\n",
            "(64, 10000)\n",
            "tf.Tensor(\n",
            "[35 35 35 35 35 35 35 35 35 35 35 35 35 35 35 35 35 35 35 35 35 35 35 35\n",
            " 35 35 35 35 35 35 35 35 35 35 35 35 35 35 35 35 35 35 35 35 35 35 35 35\n",
            " 35 35 35 35 35 35 35 35 35 35 35 35 35 35 35 35], shape=(64,), dtype=int64)\n"
          ],
          "name": "stdout"
        }
      ]
    },
    {
      "cell_type": "markdown",
      "metadata": {
        "id": "Hh-hG5WKjKww"
      },
      "source": [
        "# 2.3) Training"
      ]
    },
    {
      "cell_type": "code",
      "metadata": {
        "id": "KXT6h8c0ZDd_"
      },
      "source": [
        "#General Parameters\r\n",
        "trainforNepochs=20                                      \r\n",
        "learning_rate=0.01                                       \r\n",
        "running_average_factor = 0.95                           \r\n",
        "#lossfunction= tf.keras.losses.CategoricalCrossentropy() #we use categorical cross entropy as lossfunction\r\n",
        "optimizer = tf.keras.optimizers.Adam(learning_rate)      #we use SGD as optimizer\r\n",
        "\r\n",
        "model = Model()"
      ],
      "execution_count": 29,
      "outputs": []
    },
    {
      "cell_type": "code",
      "metadata": {
        "id": "7B0Sws2qkvgJ"
      },
      "source": [
        "def train_step(model, input, target, optimizer):\r\n",
        "  # loss_object and optimizer_object are instances of respective tensorflow classes\r\n",
        "  with tf.GradientTape() as tape: #we safe the loss in the gradient tape \r\n",
        "    loss, _ = model(input, target)\r\n",
        "    gradients = tape.gradient(loss, model.trainable_variables)\r\n",
        "  optimizer.apply_gradients(zip(gradients, model.trainable_variables))\r\n",
        "  return loss"
      ],
      "execution_count": 30,
      "outputs": []
    },
    {
      "cell_type": "code",
      "metadata": {
        "id": "vYew7UHFk-bU"
      },
      "source": [
        "def test(model, test_data):\r\n",
        "  # test over complete test data\r\n",
        "  test_accuracy_aggregator = []\r\n",
        "  test_loss_aggregator = []\r\n",
        "\r\n",
        "  for (input, target) in test_data:\r\n",
        "    loss, output_score = model(input, target)\r\n",
        "    sample_test_accuracy = np.argmax(target, axis=1) == np.argmax(output_score, axis=1)\r\n",
        "    sample_test_accuracy = np.mean(sample_test_accuracy)\r\n",
        "    test_loss_aggregator.append(loss)\r\n",
        "    test_accuracy_aggregator.append(np.mean(sample_test_accuracy))\r\n",
        "\r\n",
        "  test_loss = np.mean(test_loss_aggregator)\r\n",
        "  test_accuracy = np.mean(test_accuracy_aggregator)\r\n",
        "\r\n",
        "  return test_loss, test_accuracy"
      ],
      "execution_count": 31,
      "outputs": []
    },
    {
      "cell_type": "code",
      "metadata": {
        "id": "ucIKT4fVlKC2"
      },
      "source": [
        "# Initialize lists for later visualization.\r\n",
        "train_losses = []\r\n",
        "test_losses = []\r\n",
        "train_accuracies = []\r\n",
        "\r\n",
        "#check how model performs on train data once before we begin, so that we have a baseline\r\n",
        "train_loss, train_accuracy = test(model, train_ds)\r\n",
        "train_losses.append(train_loss)\r\n",
        "train_accuracies.append(train_accuracy)"
      ],
      "execution_count": 32,
      "outputs": []
    },
    {
      "cell_type": "code",
      "metadata": {
        "id": "v5wlUtEWlQ59"
      },
      "source": [
        "import time"
      ],
      "execution_count": 33,
      "outputs": []
    },
    {
      "cell_type": "code",
      "metadata": {
        "colab": {
          "base_uri": "https://localhost:8080/"
        },
        "id": "DzS5-GkylYY0",
        "outputId": "7b11ee09-ce23-462b-a678-a0bc782010fd"
      },
      "source": [
        "#We train for trainforNepochs epochs.\r\n",
        "for epoch in range(trainforNepochs):\r\n",
        "\r\n",
        "    #just some fun runtime approximation :D\r\n",
        "    if epoch == 0:\r\n",
        "      start = time.time()\r\n",
        "      time_remaining=\"Unknown\"\r\n",
        "    else:\r\n",
        "      now = time.time()\r\n",
        "      time_per_epoch = ((now-start)/epoch)                      #average of the time per epoch\r\n",
        "      remaining_epochs = trainforNepochs-epoch                  #numbers of remaining epochs\r\n",
        "      time_remaining = round(time_per_epoch*remaining_epochs,0)\r\n",
        "    print('Epoch:',str(epoch + 1 ),\"of\",str(trainforNepochs)+\". Time remaining:\", time_remaining, \"seconds. The last accuracy was\", str(train_accuracies[-1]))\r\n",
        "\r\n",
        "    #training (and checking in with training)\r\n",
        "    running_average = 0\r\n",
        "    for (input,target) in train_ds: #Training the model\r\n",
        "        train_loss = train_step(model, input, target, optimizer)\r\n",
        "        running_average = running_average_factor * running_average  + (1 - running_average_factor) * train_loss\r\n",
        "    train_losses.append(running_average)\r\n",
        "\r\n",
        "    #testing how good the model performed in the current step\r\n",
        "    _, train_accuracy = test(model, train_ds)\r\n",
        "    train_accuracies.append(train_accuracy)\r\n",
        "\r\n",
        "now = time.time()\r\n",
        "\r\n",
        "print(\"Finished after\",round(now-start,0),\"seconds.\")"
      ],
      "execution_count": 34,
      "outputs": [
        {
          "output_type": "stream",
          "text": [
            "Epoch: 1 of 20. Time remaining: Unknown seconds. The last accuracy was 0.0025469525159461377\n",
            "Epoch: 2 of 20. Time remaining: 1065.0 seconds. The last accuracy was 0.03533619773210489\n",
            "Epoch: 3 of 20. Time remaining: 1010.0 seconds. The last accuracy was 0.07028604614536578\n",
            "Epoch: 4 of 20. Time remaining: 947.0 seconds. The last accuracy was 0.07244952030343597\n",
            "Epoch: 5 of 20. Time remaining: 889.0 seconds. The last accuracy was 0.06799789025382576\n",
            "Epoch: 6 of 20. Time remaining: 833.0 seconds. The last accuracy was 0.0657901212693913\n",
            "Epoch: 7 of 20. Time remaining: 777.0 seconds. The last accuracy was 0.06058260821062026\n",
            "Epoch: 8 of 20. Time remaining: 722.0 seconds. The last accuracy was 0.060674068824316876\n",
            "Epoch: 9 of 20. Time remaining: 666.0 seconds. The last accuracy was 0.06154889164501142\n",
            "Epoch: 10 of 20. Time remaining: 610.0 seconds. The last accuracy was 0.0632985372864005\n",
            "Epoch: 11 of 20. Time remaining: 555.0 seconds. The last accuracy was 0.05893959826233037\n",
            "Epoch: 12 of 20. Time remaining: 499.0 seconds. The last accuracy was 0.05764397459117516\n",
            "Epoch: 13 of 20. Time remaining: 443.0 seconds. The last accuracy was 0.060920561330288475\n",
            "Epoch: 14 of 20. Time remaining: 388.0 seconds. The last accuracy was 0.055779490511063866\n",
            "Epoch: 15 of 20. Time remaining: 332.0 seconds. The last accuracy was 0.05374602987111846\n",
            "Epoch: 16 of 20. Time remaining: 277.0 seconds. The last accuracy was 0.05281173714465706\n",
            "Epoch: 17 of 20. Time remaining: 221.0 seconds. The last accuracy was 0.052849059637241784\n",
            "Epoch: 18 of 20. Time remaining: 166.0 seconds. The last accuracy was 0.05572002060529701\n",
            "Epoch: 19 of 20. Time remaining: 111.0 seconds. The last accuracy was 0.052165360789563485\n",
            "Epoch: 20 of 20. Time remaining: 55.0 seconds. The last accuracy was 0.05001706171089587\n",
            "Finished after 1107.0 seconds.\n"
          ],
          "name": "stdout"
        }
      ]
    },
    {
      "cell_type": "code",
      "metadata": {
        "id": "2U4m4TnUlqW3",
        "colab": {
          "base_uri": "https://localhost:8080/",
          "height": 278
        },
        "outputId": "c768b22f-b9f6-4148-c873-20045f4217df"
      },
      "source": [
        "# One plot training and test loss.\r\n",
        "plt.figure()\r\n",
        "line1, = plt.plot(train_losses)\r\n",
        "plt.xlabel(\"Training steps\")\r\n",
        "plt.ylabel(\"Loss\")\r\n",
        "plt.show()"
      ],
      "execution_count": 35,
      "outputs": [
        {
          "output_type": "display_data",
          "data": {
            "image/png": "[encoded data removed]",
            "text/plain": [
              "<Figure size 432x288 with 1 Axes>"
            ]
          },
          "metadata": {
            "tags": [],
            "needs_background": "light"
          }
        }
      ]
    },
    {
      "cell_type": "code",
      "metadata": {
        "id": "EgLcHxmOmvde",
        "colab": {
          "base_uri": "https://localhost:8080/",
          "height": 294
        },
        "outputId": "b4d196b8-c8f0-4f04-e95e-a9968a2282c4"
      },
      "source": [
        "# One plot training and test accuracy.\r\n",
        "plt.figure()\r\n",
        "line1, = plt.plot(train_accuracies)\r\n",
        "plt.xlabel(\"Training steps\")\r\n",
        "plt.ylabel(\"Accuracy\")\r\n",
        "plt.title(\"Accuracy: \" + str(np.round(np.max(train_accuracies),4)))\r\n",
        "plt.show()"
      ],
      "execution_count": 36,
      "outputs": [
        {
          "output_type": "display_data",
          "data": {
            "image/png": "[encoded data removed]",
            "text/plain": [
              "<Figure size 432x288 with 1 Axes>"
            ]
          },
          "metadata": {
            "tags": [],
            "needs_background": "light"
          }
        }
      ]
    },
    {
      "cell_type": "code",
      "metadata": {
        "id": "sqePX2pZoj6E"
      },
      "source": [
        ""
      ],
      "execution_count": 36,
      "outputs": []
    }
  ]
}